{
  "nbformat": 4,
  "nbformat_minor": 0,
  "metadata": {
    "kernelspec": {
      "display_name": "Python 3",
      "language": "python",
      "name": "python3"
    },
    "language_info": {
      "codemirror_mode": {
        "name": "ipython",
        "version": 3
      },
      "file_extension": ".py",
      "mimetype": "text/x-python",
      "name": "python",
      "nbconvert_exporter": "python",
      "pygments_lexer": "ipython3",
      "version": "3.6.6"
    },
    "colab": {
      "name": "Activity_5_Assembling_a_Deep_Learning_System.ipynb",
      "provenance": []
    }
  },
  "cells": [
    {
      "cell_type": "markdown",
      "metadata": {
        "id": "b5FhivJrBGR6"
      },
      "source": [
        "# Activity 5: Assembling a Deep Learning System\n",
        "In this activity, we will train the first version of our LSTM model using Bitcoin daily closing prices. These prices will be organized using the weeks of both 2016 and 2017. We do that because we are interested in predicting the prices of a week's worth of trading."
      ]
    },
    {
      "cell_type": "code",
      "metadata": {
        "colab": {
          "base_uri": "https://localhost:8080/",
          "height": 34
        },
        "id": "EbxVE_0tBGR7",
        "outputId": "64e51d96-afc7-46b3-e406-a27e9d8e738f"
      },
      "source": [
        "%autosave 5\n",
        "\n",
        "#  Import necessary libraries\n",
        "import numpy as np\n",
        "import pandas as pd\n",
        "import matplotlib.pyplot as plt\n",
        "%matplotlib inline\n",
        "plt.style.use('seaborn-white')\n",
        "\n",
        "from keras.models import load_model"
      ],
      "execution_count": 1,
      "outputs": [
        {
          "output_type": "display_data",
          "data": {
            "application/javascript": [
              "IPython.notebook.set_autosave_interval(5000)"
            ]
          },
          "metadata": {
            "tags": []
          }
        },
        {
          "output_type": "stream",
          "text": [
            "Autosaving every 5 seconds\n"
          ],
          "name": "stdout"
        }
      ]
    },
    {
      "cell_type": "code",
      "metadata": {
        "colab": {
          "base_uri": "https://localhost:8080/",
          "height": 299
        },
        "id": "sYupuJiuBGR8",
        "outputId": "18d3009e-7b18-4f94-9155-209378b0e21f"
      },
      "source": [
        "#  Import training dataset\n",
        "train = pd.read_csv('train_dataset.csv')\n",
        "train.head()"
      ],
      "execution_count": 4,
      "outputs": [
        {
          "output_type": "execute_result",
          "data": {
            "text/html": [
              "<div>\n",
              "<style scoped>\n",
              "    .dataframe tbody tr th:only-of-type {\n",
              "        vertical-align: middle;\n",
              "    }\n",
              "\n",
              "    .dataframe tbody tr th {\n",
              "        vertical-align: top;\n",
              "    }\n",
              "\n",
              "    .dataframe thead th {\n",
              "        text-align: right;\n",
              "    }\n",
              "</style>\n",
              "<table border=\"1\" class=\"dataframe\">\n",
              "  <thead>\n",
              "    <tr style=\"text-align: right;\">\n",
              "      <th></th>\n",
              "      <th>date</th>\n",
              "      <th>iso_week</th>\n",
              "      <th>close</th>\n",
              "      <th>volume</th>\n",
              "      <th>close_point_relative_normalization</th>\n",
              "      <th>volume_point_relative_normalization</th>\n",
              "    </tr>\n",
              "  </thead>\n",
              "  <tbody>\n",
              "    <tr>\n",
              "      <th>0</th>\n",
              "      <td>2016-01-01</td>\n",
              "      <td>2016-00</td>\n",
              "      <td>434.33</td>\n",
              "      <td>36278900.0</td>\n",
              "      <td>0.000000</td>\n",
              "      <td>0.000000</td>\n",
              "    </tr>\n",
              "    <tr>\n",
              "      <th>1</th>\n",
              "      <td>2016-01-02</td>\n",
              "      <td>2016-00</td>\n",
              "      <td>433.44</td>\n",
              "      <td>30096600.0</td>\n",
              "      <td>-0.002049</td>\n",
              "      <td>-0.170410</td>\n",
              "    </tr>\n",
              "    <tr>\n",
              "      <th>2</th>\n",
              "      <td>2016-01-03</td>\n",
              "      <td>2016-01</td>\n",
              "      <td>430.01</td>\n",
              "      <td>39633800.0</td>\n",
              "      <td>0.000000</td>\n",
              "      <td>0.000000</td>\n",
              "    </tr>\n",
              "    <tr>\n",
              "      <th>3</th>\n",
              "      <td>2016-01-04</td>\n",
              "      <td>2016-01</td>\n",
              "      <td>433.09</td>\n",
              "      <td>38477500.0</td>\n",
              "      <td>0.007163</td>\n",
              "      <td>-0.029175</td>\n",
              "    </tr>\n",
              "    <tr>\n",
              "      <th>4</th>\n",
              "      <td>2016-01-05</td>\n",
              "      <td>2016-01</td>\n",
              "      <td>431.96</td>\n",
              "      <td>34522600.0</td>\n",
              "      <td>0.004535</td>\n",
              "      <td>-0.128961</td>\n",
              "    </tr>\n",
              "  </tbody>\n",
              "</table>\n",
              "</div>"
            ],
            "text/plain": [
              "         date  ... volume_point_relative_normalization\n",
              "0  2016-01-01  ...                            0.000000\n",
              "1  2016-01-02  ...                           -0.170410\n",
              "2  2016-01-03  ...                            0.000000\n",
              "3  2016-01-04  ...                           -0.029175\n",
              "4  2016-01-05  ...                           -0.128961\n",
              "\n",
              "[5 rows x 6 columns]"
            ]
          },
          "metadata": {
            "tags": []
          },
          "execution_count": 4
        }
      ]
    },
    {
      "cell_type": "markdown",
      "metadata": {
        "id": "hlaUFheSBGR8"
      },
      "source": [
        "## Reshape Data"
      ]
    },
    {
      "cell_type": "code",
      "metadata": {
        "id": "l2DA3abbBGR8"
      },
      "source": [
        "def create_groups(data, group_size=7):\n",
        "    \"\"\"Create distinct groups from a continuous series.\n",
        "    \n",
        "    Parameters\n",
        "    ----------\n",
        "    data: np.array\n",
        "        Series of continious observations.\n",
        "\n",
        "    group_size: int, default 7\n",
        "        Determines how large the groups are. That is,\n",
        "        how many observations each group contains.\n",
        "    \n",
        "    Returns\n",
        "    -------\n",
        "    A Numpy array object. \n",
        "    \"\"\"\n",
        "    samples = []\n",
        "    for i in range(0, len(data), group_size):\n",
        "        sample = list(data[i:i + group_size])\n",
        "        if len(sample) == group_size:\n",
        "            samples.append(np.array(sample).reshape(1, group_size))\n",
        "    \n",
        "    return np.array(samples)"
      ],
      "execution_count": 5,
      "outputs": []
    },
    {
      "cell_type": "code",
      "metadata": {
        "colab": {
          "base_uri": "https://localhost:8080/"
        },
        "id": "2rE6kQmLBGR8",
        "outputId": "b31cfcd4-9c8e-44c0-ffa7-cbff93cb2774"
      },
      "source": [
        "#  Find the remainder when the number of observations is divided by group size\n",
        "len(train) % 7"
      ],
      "execution_count": 6,
      "outputs": [
        {
          "output_type": "execute_result",
          "data": {
            "text/plain": [
              "2"
            ]
          },
          "metadata": {
            "tags": []
          },
          "execution_count": 6
        }
      ]
    },
    {
      "cell_type": "code",
      "metadata": {
        "colab": {
          "base_uri": "https://localhost:8080/"
        },
        "id": "9Feypyy1BGR9",
        "outputId": "604cbd06-2483-49da-d2f7-c15ff9ceae71"
      },
      "source": [
        "#  Create groups of 7 from our data.\n",
        "#  We drop the first two observations so that the\n",
        "#  number of total observations is divisible by the `group_size`.\n",
        "data = create_groups(train['close_point_relative_normalization'][2:].values)\n",
        "print(data.shape)"
      ],
      "execution_count": 7,
      "outputs": [
        {
          "output_type": "stream",
          "text": [
            "(77, 1, 7)\n"
          ],
          "name": "stdout"
        }
      ]
    },
    {
      "cell_type": "code",
      "metadata": {
        "colab": {
          "base_uri": "https://localhost:8080/"
        },
        "id": "uh8NLGm-BGR9",
        "outputId": "46c6cc28-6e0a-4084-8daa-8323d2db4aff"
      },
      "source": [
        "#  Reshape data into format expected by LSTM layer\n",
        "X_train = data[:-1, :].reshape(1, 76, 7)\n",
        "Y_validation = data[-1].reshape(1, 7)\n",
        "print(X_train.shape)\n",
        "print(Y_validation.shape)"
      ],
      "execution_count": 8,
      "outputs": [
        {
          "output_type": "stream",
          "text": [
            "(1, 76, 7)\n",
            "(1, 7)\n"
          ],
          "name": "stdout"
        }
      ]
    },
    {
      "cell_type": "markdown",
      "metadata": {
        "id": "doaP8KHaBGR9"
      },
      "source": [
        "## Load Our Model"
      ]
    },
    {
      "cell_type": "code",
      "metadata": {
        "id": "ldexeJO1BGR9"
      },
      "source": [
        "#  Load our previously trained model \n",
        "model = load_model('bitcoin_lstm_v0.h5')"
      ],
      "execution_count": 10,
      "outputs": []
    },
    {
      "cell_type": "markdown",
      "metadata": {
        "id": "OL4Vz6OMBGR9"
      },
      "source": [
        "## Train model"
      ]
    },
    {
      "cell_type": "code",
      "metadata": {
        "scrolled": true,
        "colab": {
          "base_uri": "https://localhost:8080/"
        },
        "id": "so5l_MMABGR9",
        "outputId": "c9c25df2-b4fd-484e-cee4-d02228e7125a"
      },
      "source": [
        "%%time\n",
        "#  Train the model\n",
        "history = model.fit(\n",
        "    x=X_train, y=Y_validation,\n",
        "    batch_size=32, epochs=100)"
      ],
      "execution_count": 11,
      "outputs": [
        {
          "output_type": "stream",
          "text": [
            "Epoch 1/100\n",
            "1/1 [==============================] - 0s 1ms/step - loss: 0.0074\n",
            "Epoch 2/100\n",
            "1/1 [==============================] - 0s 987us/step - loss: 0.0056\n",
            "Epoch 3/100\n",
            "1/1 [==============================] - 0s 7ms/step - loss: 0.0046\n",
            "Epoch 4/100\n",
            "1/1 [==============================] - 0s 1ms/step - loss: 0.0039\n",
            "Epoch 5/100\n",
            "1/1 [==============================] - 0s 1ms/step - loss: 0.0033\n",
            "Epoch 6/100\n",
            "1/1 [==============================] - 0s 1ms/step - loss: 0.0029\n",
            "Epoch 7/100\n",
            "1/1 [==============================] - 0s 1ms/step - loss: 0.0026\n",
            "Epoch 8/100\n",
            "1/1 [==============================] - 0s 1ms/step - loss: 0.0023\n",
            "Epoch 9/100\n",
            "1/1 [==============================] - 0s 995us/step - loss: 0.0020\n",
            "Epoch 10/100\n",
            "1/1 [==============================] - 0s 1ms/step - loss: 0.0018\n",
            "Epoch 11/100\n",
            "1/1 [==============================] - 0s 1ms/step - loss: 0.0016\n",
            "Epoch 12/100\n",
            "1/1 [==============================] - 0s 1ms/step - loss: 0.0014\n",
            "Epoch 13/100\n",
            "1/1 [==============================] - 0s 1ms/step - loss: 0.0012\n",
            "Epoch 14/100\n",
            "1/1 [==============================] - 0s 1ms/step - loss: 0.0011\n",
            "Epoch 15/100\n",
            "1/1 [==============================] - 0s 1ms/step - loss: 9.4354e-04\n",
            "Epoch 16/100\n",
            "1/1 [==============================] - 0s 1ms/step - loss: 8.3006e-04\n",
            "Epoch 17/100\n",
            "1/1 [==============================] - 0s 1ms/step - loss: 7.2888e-04\n",
            "Epoch 18/100\n",
            "1/1 [==============================] - 0s 1ms/step - loss: 6.3876e-04\n",
            "Epoch 19/100\n",
            "1/1 [==============================] - 0s 2ms/step - loss: 5.5863e-04\n",
            "Epoch 20/100\n",
            "1/1 [==============================] - 0s 1ms/step - loss: 4.8754e-04\n",
            "Epoch 21/100\n",
            "1/1 [==============================] - 0s 1ms/step - loss: 4.2463e-04\n",
            "Epoch 22/100\n",
            "1/1 [==============================] - 0s 1ms/step - loss: 3.6913e-04\n",
            "Epoch 23/100\n",
            "1/1 [==============================] - 0s 1ms/step - loss: 3.2032e-04\n",
            "Epoch 24/100\n",
            "1/1 [==============================] - 0s 2ms/step - loss: 2.7752e-04\n",
            "Epoch 25/100\n",
            "1/1 [==============================] - 0s 2ms/step - loss: 2.4011e-04\n",
            "Epoch 26/100\n",
            "1/1 [==============================] - 0s 1ms/step - loss: 2.0750e-04\n",
            "Epoch 27/100\n",
            "1/1 [==============================] - 0s 1ms/step - loss: 1.7913e-04\n",
            "Epoch 28/100\n",
            "1/1 [==============================] - 0s 1ms/step - loss: 1.5449e-04\n",
            "Epoch 29/100\n",
            "1/1 [==============================] - 0s 972us/step - loss: 1.3311e-04\n",
            "Epoch 30/100\n",
            "1/1 [==============================] - 0s 1ms/step - loss: 1.1457e-04\n",
            "Epoch 31/100\n",
            "1/1 [==============================] - 0s 1ms/step - loss: 9.8468e-05\n",
            "Epoch 32/100\n",
            "1/1 [==============================] - 0s 2ms/step - loss: 8.4481e-05\n",
            "Epoch 33/100\n",
            "1/1 [==============================] - 0s 1ms/step - loss: 7.2315e-05\n",
            "Epoch 34/100\n",
            "1/1 [==============================] - 0s 1ms/step - loss: 6.1720e-05\n",
            "Epoch 35/100\n",
            "1/1 [==============================] - 0s 2ms/step - loss: 5.2487e-05\n",
            "Epoch 36/100\n",
            "1/1 [==============================] - 0s 2ms/step - loss: 4.4440e-05\n",
            "Epoch 37/100\n",
            "1/1 [==============================] - 0s 1ms/step - loss: 3.7430e-05\n",
            "Epoch 38/100\n",
            "1/1 [==============================] - 0s 1ms/step - loss: 3.1336e-05\n",
            "Epoch 39/100\n",
            "1/1 [==============================] - 0s 1ms/step - loss: 2.6053e-05\n",
            "Epoch 40/100\n",
            "1/1 [==============================] - 0s 1ms/step - loss: 2.1493e-05\n",
            "Epoch 41/100\n",
            "1/1 [==============================] - 0s 1ms/step - loss: 1.7577e-05\n",
            "Epoch 42/100\n",
            "1/1 [==============================] - 0s 2ms/step - loss: 1.4239e-05\n",
            "Epoch 43/100\n",
            "1/1 [==============================] - 0s 1ms/step - loss: 1.1414e-05\n",
            "Epoch 44/100\n",
            "1/1 [==============================] - 0s 1ms/step - loss: 9.0469e-06\n",
            "Epoch 45/100\n",
            "1/1 [==============================] - 0s 1ms/step - loss: 7.0827e-06\n",
            "Epoch 46/100\n",
            "1/1 [==============================] - 0s 1ms/step - loss: 5.4718e-06\n",
            "Epoch 47/100\n",
            "1/1 [==============================] - 0s 1ms/step - loss: 4.1673e-06\n",
            "Epoch 48/100\n",
            "1/1 [==============================] - 0s 1ms/step - loss: 3.1253e-06\n",
            "Epoch 49/100\n",
            "1/1 [==============================] - 0s 1ms/step - loss: 2.3056e-06\n",
            "Epoch 50/100\n",
            "1/1 [==============================] - 0s 987us/step - loss: 1.6711e-06\n",
            "Epoch 51/100\n",
            "1/1 [==============================] - 0s 2ms/step - loss: 1.1885e-06\n",
            "Epoch 52/100\n",
            "1/1 [==============================] - 0s 1ms/step - loss: 8.2833e-07\n",
            "Epoch 53/100\n",
            "1/1 [==============================] - 0s 1ms/step - loss: 5.6496e-07\n",
            "Epoch 54/100\n",
            "1/1 [==============================] - 0s 1ms/step - loss: 3.7652e-07\n",
            "Epoch 55/100\n",
            "1/1 [==============================] - 0s 1ms/step - loss: 2.4480e-07\n",
            "Epoch 56/100\n",
            "1/1 [==============================] - 0s 1ms/step - loss: 1.5502e-07\n",
            "Epoch 57/100\n",
            "1/1 [==============================] - 0s 3ms/step - loss: 9.5429e-08\n",
            "Epoch 58/100\n",
            "1/1 [==============================] - 0s 1ms/step - loss: 5.6999e-08\n",
            "Epoch 59/100\n",
            "1/1 [==============================] - 0s 1ms/step - loss: 3.2964e-08\n",
            "Epoch 60/100\n",
            "1/1 [==============================] - 0s 1ms/step - loss: 1.8415e-08\n",
            "Epoch 61/100\n",
            "1/1 [==============================] - 0s 2ms/step - loss: 9.9133e-09\n",
            "Epoch 62/100\n",
            "1/1 [==============================] - 0s 2ms/step - loss: 5.1281e-09\n",
            "Epoch 63/100\n",
            "1/1 [==============================] - 0s 3ms/step - loss: 2.5414e-09\n",
            "Epoch 64/100\n",
            "1/1 [==============================] - 0s 1ms/step - loss: 1.2029e-09\n",
            "Epoch 65/100\n",
            "1/1 [==============================] - 0s 1ms/step - loss: 5.4192e-10\n",
            "Epoch 66/100\n",
            "1/1 [==============================] - 0s 1ms/step - loss: 2.3196e-10\n",
            "Epoch 67/100\n",
            "1/1 [==============================] - 0s 1ms/step - loss: 9.8968e-11\n",
            "Epoch 68/100\n",
            "1/1 [==============================] - 0s 1ms/step - loss: 8.7479e-11\n",
            "Epoch 69/100\n",
            "1/1 [==============================] - 0s 1ms/step - loss: 5.4240e-10\n",
            "Epoch 70/100\n",
            "1/1 [==============================] - 0s 2ms/step - loss: 6.1518e-09\n",
            "Epoch 71/100\n",
            "1/1 [==============================] - 0s 1ms/step - loss: 8.0151e-08\n",
            "Epoch 72/100\n",
            "1/1 [==============================] - 0s 2ms/step - loss: 9.6580e-07\n",
            "Epoch 73/100\n",
            "1/1 [==============================] - 0s 2ms/step - loss: 4.6377e-06\n",
            "Epoch 74/100\n",
            "1/1 [==============================] - 0s 2ms/step - loss: 9.1971e-06\n",
            "Epoch 75/100\n",
            "1/1 [==============================] - 0s 2ms/step - loss: 1.0095e-05\n",
            "Epoch 76/100\n",
            "1/1 [==============================] - 0s 1ms/step - loss: 7.3998e-06\n",
            "Epoch 77/100\n",
            "1/1 [==============================] - 0s 1ms/step - loss: 4.8124e-06\n",
            "Epoch 78/100\n",
            "1/1 [==============================] - 0s 1ms/step - loss: 2.8423e-06\n",
            "Epoch 79/100\n",
            "1/1 [==============================] - 0s 1ms/step - loss: 1.9104e-06\n",
            "Epoch 80/100\n",
            "1/1 [==============================] - 0s 1ms/step - loss: 1.3908e-06\n",
            "Epoch 81/100\n",
            "1/1 [==============================] - 0s 1ms/step - loss: 1.2055e-06\n",
            "Epoch 82/100\n",
            "1/1 [==============================] - 0s 1ms/step - loss: 1.1733e-06\n",
            "Epoch 83/100\n",
            "1/1 [==============================] - 0s 1ms/step - loss: 1.3398e-06\n",
            "Epoch 84/100\n",
            "1/1 [==============================] - 0s 2ms/step - loss: 1.6806e-06\n",
            "Epoch 85/100\n",
            "1/1 [==============================] - 0s 1ms/step - loss: 2.3577e-06\n",
            "Epoch 86/100\n",
            "1/1 [==============================] - 0s 2ms/step - loss: 3.3549e-06\n",
            "Epoch 87/100\n",
            "1/1 [==============================] - 0s 1ms/step - loss: 4.8004e-06\n",
            "Epoch 88/100\n",
            "1/1 [==============================] - 0s 2ms/step - loss: 5.9534e-06\n",
            "Epoch 89/100\n",
            "1/1 [==============================] - 0s 1ms/step - loss: 6.5861e-06\n",
            "Epoch 90/100\n",
            "1/1 [==============================] - 0s 1ms/step - loss: 5.8198e-06\n",
            "Epoch 91/100\n",
            "1/1 [==============================] - 0s 1ms/step - loss: 4.8660e-06\n",
            "Epoch 92/100\n",
            "1/1 [==============================] - 0s 2ms/step - loss: 3.6582e-06\n",
            "Epoch 93/100\n",
            "1/1 [==============================] - 0s 2ms/step - loss: 2.9447e-06\n",
            "Epoch 94/100\n",
            "1/1 [==============================] - 0s 2ms/step - loss: 2.3948e-06\n",
            "Epoch 95/100\n",
            "1/1 [==============================] - 0s 1ms/step - loss: 2.1935e-06\n",
            "Epoch 96/100\n",
            "1/1 [==============================] - 0s 2ms/step - loss: 2.1136e-06\n",
            "Epoch 97/100\n",
            "1/1 [==============================] - 0s 2ms/step - loss: 2.2858e-06\n",
            "Epoch 98/100\n",
            "1/1 [==============================] - 0s 1ms/step - loss: 2.5626e-06\n",
            "Epoch 99/100\n",
            "1/1 [==============================] - 0s 1ms/step - loss: 3.1029e-06\n",
            "Epoch 100/100\n",
            "1/1 [==============================] - 0s 1ms/step - loss: 3.6694e-06\n",
            "CPU times: user 3.23 s, sys: 199 ms, total: 3.43 s\n",
            "Wall time: 3.57 s\n"
          ],
          "name": "stdout"
        }
      ]
    },
    {
      "cell_type": "code",
      "metadata": {
        "colab": {
          "base_uri": "https://localhost:8080/",
          "height": 216
        },
        "id": "7bFnucwbBGR9",
        "outputId": "345ce1dd-a467-48bb-81e3-32e2a2279efb"
      },
      "source": [
        "#  Plot loss function\n",
        "pd.Series(history.history['loss']).plot(figsize=(14, 4));"
      ],
      "execution_count": 12,
      "outputs": [
        {
          "output_type": "display_data",
          "data": {
            "image/png": "[encoded data removed]",
            "text/plain": [
              "<Figure size 1008x288 with 1 Axes>"
            ]
          },
          "metadata": {
            "tags": [],
            "needs_background": "light"
          }
        }
      ]
    },
    {
      "cell_type": "markdown",
      "metadata": {
        "id": "msLVKqu8BGR9"
      },
      "source": [
        "## Make Predictions"
      ]
    },
    {
      "cell_type": "code",
      "metadata": {
        "colab": {
          "base_uri": "https://localhost:8080/"
        },
        "id": "VU2tRGVHBGR-",
        "outputId": "f11465ee-bd10-4172-cfc5-af8d1804b937"
      },
      "source": [
        "#  Make predictions using X_train data\n",
        "predictions = model.predict(x=X_train)[0]\n",
        "predictions"
      ],
      "execution_count": 13,
      "outputs": [
        {
          "output_type": "execute_result",
          "data": {
            "text/plain": [
              "array([-0.0019452 ,  0.01849701,  0.0692273 ,  0.05414604,  0.05846063,\n",
              "        0.07433425,  0.02471079], dtype=float32)"
            ]
          },
          "metadata": {
            "tags": []
          },
          "execution_count": 13
        }
      ]
    },
    {
      "cell_type": "code",
      "metadata": {
        "id": "D7LlIFW6BGR-"
      },
      "source": [
        "def denormalize(series, last_value):\n",
        "    \"\"\"Denormalize the values for a given series.\n",
        "    \n",
        "    This uses the last value available (i.e. the last\n",
        "    closing price of the week before our prediction)\n",
        "    as a reference for scaling the predicted results.\n",
        "    \"\"\"\n",
        "    result = last_value * (series + 1)\n",
        "    return result"
      ],
      "execution_count": 14,
      "outputs": []
    },
    {
      "cell_type": "code",
      "metadata": {
        "colab": {
          "base_uri": "https://localhost:8080/"
        },
        "id": "mbWNubWxBGR-",
        "outputId": "7cbde501-368b-41a5-a1bf-5dab17e4a1a0"
      },
      "source": [
        "#  Denormalize predictions\n",
        "last_weeks_value = train[train['date'] == train['date'][:-7].max()]['close'].values[0]\n",
        "\n",
        "denormalized_prediction = denormalize(predictions, last_weeks_value)\n",
        "denormalized_prediction"
      ],
      "execution_count": 15,
      "outputs": [
        {
          "output_type": "execute_result",
          "data": {
            "text/plain": [
              "array([2650.7136, 2705.0056, 2839.7393, 2799.6853, 2811.1443, 2853.3027,\n",
              "       2721.5088], dtype=float32)"
            ]
          },
          "metadata": {
            "tags": []
          },
          "execution_count": 15
        }
      ]
    },
    {
      "cell_type": "code",
      "metadata": {
        "colab": {
          "base_uri": "https://localhost:8080/",
          "height": 217
        },
        "id": "RE5r5u5BBGR-",
        "outputId": "feafb533-96f8-4693-c233-66a62e85ac9a"
      },
      "source": [
        "#  Plot denormalized predictions against actual predictions\n",
        "plt.figure(figsize=(14, 4))\n",
        "\n",
        "plt.plot(train['close'][-7:].values, label='Actual')\n",
        "plt.plot(denormalized_prediction, color='#d35400', label='Predicted')\n",
        "\n",
        "plt.grid()\n",
        "plt.legend();"
      ],
      "execution_count": 16,
      "outputs": [
        {
          "output_type": "display_data",
          "data": {
            "image/png": "[encoded data removed]",
            "text/plain": [
              "<Figure size 1008x288 with 1 Axes>"
            ]
          },
          "metadata": {
            "tags": [],
            "needs_background": "light"
          }
        }
      ]
    },
    {
      "cell_type": "code",
      "metadata": {
        "colab": {
          "base_uri": "https://localhost:8080/",
          "height": 219
        },
        "id": "hkt5kAHwBGR-",
        "outputId": "c3fafecc-7678-41f9-de06-da49c2472a46"
      },
      "source": [
        "prediction_plot = np.zeros(len(train)-2)\n",
        "prediction_plot[:] = np.nan\n",
        "prediction_plot[-7:] = denormalized_prediction\n",
        "\n",
        "plt.figure(figsize=(14, 4))\n",
        "plt.plot(train['close'][-30:].values, label='Actual')\n",
        "plt.plot(prediction_plot[-30:], color='#d35400', linestyle='--', label='Predicted')\n",
        "plt.axvline(30 - 7, color='r', linestyle='--', linewidth=1)\n",
        "\n",
        "plt.grid()\n",
        "plt.legend(loc='lower right');"
      ],
      "execution_count": 17,
      "outputs": [
        {
          "output_type": "display_data",
          "data": {
            "image/png": "[encoded data removed]",
            "text/plain": [
              "<Figure size 1008x288 with 1 Axes>"
            ]
          },
          "metadata": {
            "tags": [],
            "needs_background": "light"
          }
        }
      ]
    },
    {
      "cell_type": "code",
      "metadata": {
        "eid": "8ce0c2",
        "id": "IzuE4gmFBGR-"
      },
      "source": [
        "#  TASK:\n",
        "#  Save model to disk\n",
        "#\n",
        "model.save('bitcoin_lstm_v0.h5')\n"
      ],
      "execution_count": 19,
      "outputs": []
    },
    {
      "cell_type": "markdown",
      "metadata": {
        "id": "6NJmpbg-BGR-"
      },
      "source": [
        "In this activity, we have assembled a complete deep learning system: from data to prediction. The model created in this activity need a number of improvements before it can be considered useful. However, it serves as a great starting point from which we will continuously improve."
      ]
    }
  ]
}