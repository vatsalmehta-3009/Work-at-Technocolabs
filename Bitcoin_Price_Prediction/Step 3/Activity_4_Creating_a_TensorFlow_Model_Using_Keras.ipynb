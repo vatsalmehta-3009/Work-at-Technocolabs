{
  "nbformat": 4,
  "nbformat_minor": 0,
  "metadata": {
    "kernelspec": {
      "display_name": "Python 3",
      "language": "python",
      "name": "python3"
    },
    "language_info": {
      "codemirror_mode": {
        "name": "ipython",
        "version": 3
      },
      "file_extension": ".py",
      "mimetype": "text/x-python",
      "name": "python",
      "nbconvert_exporter": "python",
      "pygments_lexer": "ipython3",
      "version": "3.6.6"
    },
    "colab": {
      "name": "Activity_4_Creating_a_TensorFlow_Model_Using_Keras.ipynb",
      "provenance": []
    }
  },
  "cells": [
    {
      "cell_type": "markdown",
      "metadata": {
        "id": "Zi_Fmy2b-58A"
      },
      "source": [
        "# Activity 4: Creating a TensorFlow Model using Keras\n",
        "In this notebook we design and compile a deep learning model using Keras as an interface to TensorFlow. We will continue to modify this model in our next lessons and activities by experimenting with different optimization techniques. However, the essential components of the model are entirely designed in this notebook."
      ]
    },
    {
      "cell_type": "markdown",
      "metadata": {
        "id": "i9q-Vu4g-58A"
      },
      "source": [
        "## Building a Model"
      ]
    },
    {
      "cell_type": "code",
      "metadata": {
        "colab": {
          "base_uri": "https://localhost:8080/",
          "height": 34
        },
        "id": "G4pSx0Wv-58B",
        "outputId": "e42e6ca6-0bbb-4d89-c2a1-7be7483570a1"
      },
      "source": [
        "%autosave 5\n",
        "\n",
        "from keras.models import Sequential\n",
        "from keras.layers.recurrent import LSTM\n",
        "from keras.layers.core import Dense, Activation"
      ],
      "execution_count": 1,
      "outputs": [
        {
          "output_type": "display_data",
          "data": {
            "application/javascript": [
              "IPython.notebook.set_autosave_interval(5000)"
            ]
          },
          "metadata": {
            "tags": []
          }
        },
        {
          "output_type": "stream",
          "text": [
            "Autosaving every 5 seconds\n"
          ],
          "name": "stdout"
        }
      ]
    },
    {
      "cell_type": "code",
      "metadata": {
        "eid": "0ccaa6",
        "id": "REDWftga-58B"
      },
      "source": [
        "#  TASK:\n",
        "#  Define `period_length`\n",
        "#\n",
        "period_length = 7"
      ],
      "execution_count": 2,
      "outputs": []
    },
    {
      "cell_type": "code",
      "metadata": {
        "eid": "90e207",
        "id": "XmwrAWUE-58B"
      },
      "source": [
        "#  TASK:\n",
        "#  Define `number_of_periods`\n",
        "#\n",
        "number_of_periods = 76"
      ],
      "execution_count": 3,
      "outputs": []
    },
    {
      "cell_type": "code",
      "metadata": {
        "id": "AxDpc-CI-58B"
      },
      "source": [
        "def build_model(period_length, number_of_periods, batch_size=1):\n",
        "    \"\"\"Build an LSTM model using Keras.\n",
        "\n",
        "    Parameters\n",
        "    ----------\n",
        "    period_length: int\n",
        "        The size of each observation used as input.\n",
        "\n",
        "    number_of_periods: int\n",
        "        The number of periods available in the\n",
        "        dataset.\n",
        "\n",
        "    batch_size: int\n",
        "        The size of the batch used in each training\n",
        "        period.\n",
        "\n",
        "    Returns\n",
        "    -------\n",
        "    model: Keras model\n",
        "        Compiled Keras model that can be trained\n",
        "        and stored in disk.\n",
        "    \"\"\"\n",
        "    model = Sequential()\n",
        "    model.add(LSTM(\n",
        "        units=period_length,\n",
        "        batch_input_shape=(batch_size, number_of_periods, period_length),\n",
        "        input_shape=(number_of_periods, period_length),\n",
        "        return_sequences=False, stateful=False))\n",
        "\n",
        "    model.add(Dense(units=period_length))\n",
        "    model.add(Activation(\"linear\"))\n",
        "\n",
        "    model.compile(loss=\"mse\", optimizer=\"rmsprop\")\n",
        "\n",
        "    return model"
      ],
      "execution_count": 4,
      "outputs": []
    },
    {
      "cell_type": "markdown",
      "metadata": {
        "id": "PIUPdi1f-58C"
      },
      "source": [
        "The steps above compile the LSTM model as TensorFlow computation graph. We can now train that model using our train and evaluate its results with our test set."
      ]
    },
    {
      "cell_type": "markdown",
      "metadata": {
        "id": "wEYE2PPd-58C"
      },
      "source": [
        "## Saving Model"
      ]
    },
    {
      "cell_type": "code",
      "metadata": {
        "id": "XVAxRXNs-58C"
      },
      "source": [
        "model = build_model(period_length=period_length, number_of_periods=number_of_periods)"
      ],
      "execution_count": 5,
      "outputs": []
    },
    {
      "cell_type": "code",
      "metadata": {
        "id": "SuwubdgQ-58C"
      },
      "source": [
        "model.save('bitcoin_lstm_v0.h5')"
      ],
      "execution_count": 10,
      "outputs": []
    },
    {
      "cell_type": "code",
      "metadata": {
        "colab": {
          "base_uri": "https://localhost:8080/",
          "height": 178
        },
        "id": "mmry-FYL_uec",
        "outputId": "9adf32fa-6b49-440c-e073-707dfd1959a6"
      },
      "source": [
        "model_save_name = 'classifier.pt'\n",
        "path = F\"/content/gdrive/My Drive/{model_save_name}\" \n",
        "torch.save(model.state_dict(), path)"
      ],
      "execution_count": 9,
      "outputs": [
        {
          "output_type": "error",
          "ename": "TypeError",
          "evalue": "ignored",
          "traceback": [
            "\u001b[0;31m---------------------------------------------------------------------------\u001b[0m",
            "\u001b[0;31mTypeError\u001b[0m                                 Traceback (most recent call last)",
            "\u001b[0;32m<ipython-input-9-827abd430eed>\u001b[0m in \u001b[0;36m<module>\u001b[0;34m()\u001b[0m\n\u001b[1;32m      1\u001b[0m \u001b[0;32mimport\u001b[0m \u001b[0mtensorflow\u001b[0m \u001b[0;32mas\u001b[0m \u001b[0mtf\u001b[0m\u001b[0;34m\u001b[0m\u001b[0;34m\u001b[0m\u001b[0m\n\u001b[0;32m----> 2\u001b[0;31m \u001b[0mtf\u001b[0m\u001b[0;34m.\u001b[0m\u001b[0mkeras\u001b[0m\u001b[0;34m.\u001b[0m\u001b[0mmodels\u001b[0m\u001b[0;34m.\u001b[0m\u001b[0msave_model\u001b[0m\u001b[0;34m(\u001b[0m\u001b[0;34m'bitcoin_lstm_v0.h5'\u001b[0m\u001b[0;34m)\u001b[0m\u001b[0;34m\u001b[0m\u001b[0;34m\u001b[0m\u001b[0m\n\u001b[0m",
            "\u001b[0;31mTypeError\u001b[0m: save_model() missing 1 required positional argument: 'filepath'"
          ]
        }
      ]
    },
    {
      "cell_type": "code",
      "metadata": {
        "id": "vjd4uEJMP_gw"
      },
      "source": [
        "from google.colab import drive\n",
        "drive.mount('/content/drive')"
      ],
      "execution_count": null,
      "outputs": []
    },
    {
      "cell_type": "code",
      "metadata": {
        "id": "Th28GOZOHfwm"
      },
      "source": [
        ""
      ],
      "execution_count": null,
      "outputs": []
    }
  ]
}